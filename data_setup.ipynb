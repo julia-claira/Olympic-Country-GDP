{
 "cells": [
  {
   "cell_type": "code",
   "execution_count": 1,
   "metadata": {},
   "outputs": [],
   "source": [
    "import pandas as pd"
   ]
  },
  {
   "cell_type": "code",
   "execution_count": 2,
   "metadata": {},
   "outputs": [],
   "source": [
    "#bring in original csv file\n",
    "df=pd.read_csv(\"data/summer.csv\")"
   ]
  },
  {
   "cell_type": "code",
   "execution_count": 5,
   "metadata": {},
   "outputs": [
    {
     "name": "stdout",
     "output_type": "stream",
     "text": [
      "City: 0\n",
      "Sport: 0\n",
      "Discipline: 0\n",
      "Athlete: 30980\n",
      "Country: 0\n",
      "Gender: 0\n",
      "Event: 1385\n",
      "Medal: 0\n",
      "0\n"
     ]
    }
   ],
   "source": [
    "#a count of commas -- the commas in the data is causing confusion with SQL as commas are also used as the delimiter\n",
    "count=0\n",
    "for col in df:\n",
    "    if df[col].dtype==object:\n",
    "        print(f'{col}: {df[col].str.contains(\",\").sum()}')\n",
    "            \n",
    "print (count)"
   ]
  },
  {
   "cell_type": "code",
   "execution_count": 6,
   "metadata": {},
   "outputs": [],
   "source": [
    "#replace the commas in data\n",
    "for col in df:\n",
    "    if df[col].dtype==object:\n",
    "        df[col]=df[col].str.replace(',','/')"
   ]
  },
  {
   "cell_type": "code",
   "execution_count": 7,
   "metadata": {},
   "outputs": [
    {
     "name": "stdout",
     "output_type": "stream",
     "text": [
      "City: 0\n",
      "Sport: 0\n",
      "Discipline: 0\n",
      "Athlete: 0\n",
      "Country: 0\n",
      "Gender: 0\n",
      "Event: 0\n",
      "Medal: 0\n",
      "0\n"
     ]
    }
   ],
   "source": [
    "#check commas again to make sure problem is fixed\n",
    "count=0\n",
    "for col in df:\n",
    "    if df[col].dtype==object:\n",
    "        print(f'{col}: {df[col].str.contains(\",\").sum()}')\n",
    "            \n",
    "print (count)"
   ]
  },
  {
   "cell_type": "code",
   "execution_count": null,
   "metadata": {},
   "outputs": [],
   "source": [
    "#save an updated csv to import into postgres\n",
    "df.to_csv(\"data/summer_delim.csv\")"
   ]
  }
 ],
 "metadata": {
  "kernelspec": {
   "display_name": "Python [conda env:PythonData] *",
   "language": "python",
   "name": "conda-env-PythonData-py"
  },
  "language_info": {
   "codemirror_mode": {
    "name": "ipython",
    "version": 3
   },
   "file_extension": ".py",
   "mimetype": "text/x-python",
   "name": "python",
   "nbconvert_exporter": "python",
   "pygments_lexer": "ipython3",
   "version": "3.6.10"
  }
 },
 "nbformat": 4,
 "nbformat_minor": 4
}
