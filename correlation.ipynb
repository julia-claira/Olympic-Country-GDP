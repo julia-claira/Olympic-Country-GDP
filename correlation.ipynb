{
 "cells": [
  {
   "cell_type": "code",
   "execution_count": 71,
   "metadata": {},
   "outputs": [],
   "source": [
    "import pandas as pd\n",
    "import matplotlib.pyplot as plt\n",
    "from scipy import stats\n",
    "from scipy.stats import linregress\n",
    "import numpy as np"
   ]
  },
  {
   "cell_type": "code",
   "execution_count": 2,
   "metadata": {},
   "outputs": [],
   "source": [
    "#read csv file\n",
    "summer_df=pd.read_csv('data/summer_gdp2.csv')"
   ]
  },
  {
   "cell_type": "code",
   "execution_count": 3,
   "metadata": {},
   "outputs": [
    {
     "data": {
      "text/html": [
       "<div>\n",
       "<style scoped>\n",
       "    .dataframe tbody tr th:only-of-type {\n",
       "        vertical-align: middle;\n",
       "    }\n",
       "\n",
       "    .dataframe tbody tr th {\n",
       "        vertical-align: top;\n",
       "    }\n",
       "\n",
       "    .dataframe thead th {\n",
       "        text-align: right;\n",
       "    }\n",
       "</style>\n",
       "<table border=\"1\" class=\"dataframe\">\n",
       "  <thead>\n",
       "    <tr style=\"text-align: right;\">\n",
       "      <th></th>\n",
       "      <th>id</th>\n",
       "      <th>year</th>\n",
       "      <th>city</th>\n",
       "      <th>sport</th>\n",
       "      <th>discipline</th>\n",
       "      <th>country</th>\n",
       "      <th>gender</th>\n",
       "      <th>event</th>\n",
       "      <th>medal</th>\n",
       "      <th>full_country</th>\n",
       "      <th>gdp</th>\n",
       "    </tr>\n",
       "  </thead>\n",
       "  <tbody>\n",
       "    <tr>\n",
       "      <th>0</th>\n",
       "      <td>29189</td>\n",
       "      <td>2008</td>\n",
       "      <td>Beijing</td>\n",
       "      <td>Wrestling</td>\n",
       "      <td>Wrestling Gre-R</td>\n",
       "      <td>ARM</td>\n",
       "      <td>Men</td>\n",
       "      <td>- 55KG</td>\n",
       "      <td>Bronze</td>\n",
       "      <td>Armenia</td>\n",
       "      <td>1.166204e+10</td>\n",
       "    </tr>\n",
       "    <tr>\n",
       "      <th>1</th>\n",
       "      <td>29139</td>\n",
       "      <td>2008</td>\n",
       "      <td>Beijing</td>\n",
       "      <td>Weightlifting</td>\n",
       "      <td>Weightlifting</td>\n",
       "      <td>ARM</td>\n",
       "      <td>Men</td>\n",
       "      <td>85KG</td>\n",
       "      <td>Bronze</td>\n",
       "      <td>Armenia</td>\n",
       "      <td>1.166204e+10</td>\n",
       "    </tr>\n",
       "    <tr>\n",
       "      <th>2</th>\n",
       "      <td>29136</td>\n",
       "      <td>2008</td>\n",
       "      <td>Beijing</td>\n",
       "      <td>Weightlifting</td>\n",
       "      <td>Weightlifting</td>\n",
       "      <td>ARM</td>\n",
       "      <td>Men</td>\n",
       "      <td>77KG</td>\n",
       "      <td>Bronze</td>\n",
       "      <td>Armenia</td>\n",
       "      <td>1.166204e+10</td>\n",
       "    </tr>\n",
       "    <tr>\n",
       "      <th>3</th>\n",
       "      <td>10696</td>\n",
       "      <td>1964</td>\n",
       "      <td>Tokyo</td>\n",
       "      <td>Aquatics</td>\n",
       "      <td>Swimming</td>\n",
       "      <td>AUS</td>\n",
       "      <td>Women</td>\n",
       "      <td>100M Freestyle</td>\n",
       "      <td>Gold</td>\n",
       "      <td>Australia</td>\n",
       "      <td>2.378766e+10</td>\n",
       "    </tr>\n",
       "    <tr>\n",
       "      <th>4</th>\n",
       "      <td>11715</td>\n",
       "      <td>1968</td>\n",
       "      <td>Mexico</td>\n",
       "      <td>Aquatics</td>\n",
       "      <td>Swimming</td>\n",
       "      <td>AUS</td>\n",
       "      <td>Men</td>\n",
       "      <td>100M Freestyle</td>\n",
       "      <td>Gold</td>\n",
       "      <td>Australia</td>\n",
       "      <td>3.268787e+10</td>\n",
       "    </tr>\n",
       "  </tbody>\n",
       "</table>\n",
       "</div>"
      ],
      "text/plain": [
       "      id  year     city          sport       discipline country gender  \\\n",
       "0  29189  2008  Beijing      Wrestling  Wrestling Gre-R     ARM    Men   \n",
       "1  29139  2008  Beijing  Weightlifting    Weightlifting     ARM    Men   \n",
       "2  29136  2008  Beijing  Weightlifting    Weightlifting     ARM    Men   \n",
       "3  10696  1964    Tokyo       Aquatics         Swimming     AUS  Women   \n",
       "4  11715  1968   Mexico       Aquatics         Swimming     AUS    Men   \n",
       "\n",
       "            event   medal full_country           gdp  \n",
       "0          - 55KG  Bronze      Armenia  1.166204e+10  \n",
       "1            85KG  Bronze      Armenia  1.166204e+10  \n",
       "2            77KG  Bronze      Armenia  1.166204e+10  \n",
       "3  100M Freestyle    Gold    Australia  2.378766e+10  \n",
       "4  100M Freestyle    Gold    Australia  3.268787e+10  "
      ]
     },
     "execution_count": 3,
     "metadata": {},
     "output_type": "execute_result"
    }
   ],
   "source": [
    "summer_df.head()"
   ]
  },
  {
   "cell_type": "code",
   "execution_count": 22,
   "metadata": {},
   "outputs": [
    {
     "data": {
      "text/html": [
       "<div>\n",
       "<style scoped>\n",
       "    .dataframe tbody tr th:only-of-type {\n",
       "        vertical-align: middle;\n",
       "    }\n",
       "\n",
       "    .dataframe tbody tr th {\n",
       "        vertical-align: top;\n",
       "    }\n",
       "\n",
       "    .dataframe thead th {\n",
       "        text-align: right;\n",
       "    }\n",
       "</style>\n",
       "<table border=\"1\" class=\"dataframe\">\n",
       "  <thead>\n",
       "    <tr style=\"text-align: right;\">\n",
       "      <th></th>\n",
       "      <th>country</th>\n",
       "      <th>year</th>\n",
       "      <th>gdp</th>\n",
       "      <th>medal_total</th>\n",
       "    </tr>\n",
       "  </thead>\n",
       "  <tbody>\n",
       "    <tr>\n",
       "      <th>0</th>\n",
       "      <td>AFG</td>\n",
       "      <td>2008</td>\n",
       "      <td>1.019053e+10</td>\n",
       "      <td>1</td>\n",
       "    </tr>\n",
       "    <tr>\n",
       "      <th>1</th>\n",
       "      <td>AFG</td>\n",
       "      <td>2012</td>\n",
       "      <td>2.053654e+10</td>\n",
       "      <td>1</td>\n",
       "    </tr>\n",
       "    <tr>\n",
       "      <th>2</th>\n",
       "      <td>ALG</td>\n",
       "      <td>1984</td>\n",
       "      <td>5.369828e+10</td>\n",
       "      <td>2</td>\n",
       "    </tr>\n",
       "    <tr>\n",
       "      <th>3</th>\n",
       "      <td>ALG</td>\n",
       "      <td>1992</td>\n",
       "      <td>4.800330e+10</td>\n",
       "      <td>2</td>\n",
       "    </tr>\n",
       "    <tr>\n",
       "      <th>4</th>\n",
       "      <td>ALG</td>\n",
       "      <td>1996</td>\n",
       "      <td>4.694150e+10</td>\n",
       "      <td>3</td>\n",
       "    </tr>\n",
       "  </tbody>\n",
       "</table>\n",
       "</div>"
      ],
      "text/plain": [
       "  country  year           gdp  medal_total\n",
       "0     AFG  2008  1.019053e+10            1\n",
       "1     AFG  2012  2.053654e+10            1\n",
       "2     ALG  1984  5.369828e+10            2\n",
       "3     ALG  1992  4.800330e+10            2\n",
       "4     ALG  1996  4.694150e+10            3"
      ]
     },
     "execution_count": 22,
     "metadata": {},
     "output_type": "execute_result"
    }
   ],
   "source": [
    "#medal count by year for each country\n",
    "medal_count_df=summer_df.groupby(['country','year','gdp']).count()\n",
    "medal_count_df=medal_count_df[['medal']]\n",
    "medal_count_df.rename(columns={'medal':'medal_total'},inplace=True)\n",
    "medal_count_df.reset_index(inplace=True)\n",
    "medal_count_df.head()"
   ]
  },
  {
   "cell_type": "code",
   "execution_count": 26,
   "metadata": {},
   "outputs": [
    {
     "data": {
      "image/png": "[encoded data removed]",
      "text/plain": [
       "<Figure size 432x288 with 1 Axes>"
      ]
     },
     "metadata": {
      "needs_background": "light"
     },
     "output_type": "display_data"
    }
   ],
   "source": [
    "#do an initial look at the data\n",
    "x=medal_count_df.loc[medal_count_df['year']==2012]['medal_total']\n",
    "y=medal_count_df.loc[medal_count_df['year']==2012]['gdp']\n",
    "plt.scatter(x,y)\n",
    "plt.title('2012 GDP and Medal Count Correlation')\n",
    "plt.xlabel('Medal Count')\n",
    "plt.ylabel('GDP')\n",
    "plt.show()"
   ]
  },
  {
   "cell_type": "code",
   "execution_count": 63,
   "metadata": {},
   "outputs": [
    {
     "name": "stderr",
     "output_type": "stream",
     "text": [
      "/opt/anaconda3/envs/PythonData/lib/python3.6/site-packages/ipykernel_launcher.py:1: SettingWithCopyWarning: \n",
      "A value is trying to be set on a copy of a slice from a DataFrame.\n",
      "Try using .loc[row_indexer,col_indexer] = value instead\n",
      "\n",
      "See the caveats in the documentation: https://pandas.pydata.org/pandas-docs/stable/user_guide/indexing.html#returning-a-view-versus-a-copy\n",
      "  \"\"\"Entry point for launching an IPython kernel.\n"
     ]
    }
   ],
   "source": [
    "#create a new row with the Z_score to get rid of of outliers in the GDP data set\n",
    "medal_count_df_2012=medal_count_df.loc[medal_count_df['year']==2012]\n",
    "medal_count_df_2012['z_score']=np.abs(stats.zscore(medal_count_df_2012['gdp']))"
   ]
  },
  {
   "cell_type": "code",
   "execution_count": 68,
   "metadata": {},
   "outputs": [],
   "source": [
    "medal_count_df_2012_std=medal_count_df_2012.loc[medal_count_df_2012['z_score']<=2]"
   ]
  },
  {
   "cell_type": "code",
   "execution_count": 70,
   "metadata": {},
   "outputs": [
    {
     "data": {
      "image/png": "[encoded data removed]",
      "text/plain": [
       "<Figure size 432x288 with 1 Axes>"
      ]
     },
     "metadata": {
      "needs_background": "light"
     },
     "output_type": "display_data"
    }
   ],
   "source": [
    "#re-examine data with outliers removed outside of two standard deviations\n",
    "x=medal_count_df_2012_std['medal_total']\n",
    "y=medal_count_df_2012_std['gdp']\n",
    "plt.scatter(x,y)\n",
    "plt.title('2012 GDP and Medal Count Correlation')\n",
    "plt.xlabel('Medal Count')\n",
    "plt.ylabel('GDP')\n",
    "plt.show()"
   ]
  },
  {
   "cell_type": "code",
   "execution_count": 81,
   "metadata": {},
   "outputs": [
    {
     "name": "stdout",
     "output_type": "stream",
     "text": [
      "r square: 0.5893311630788749\n",
      "p_value: 9.812807436446803e-17\n",
      "std: 743574108585.2167\n",
      "std_err: 4085845155.7157135\n"
     ]
    }
   ],
   "source": [
    "#finde linregress\n",
    "slope, intercept, r_value, p_value, std_err = linregress(x, y)\n",
    "print(f'r square: {r_value*r_value}')\n",
    "print(f'p_value: {p_value}')\n",
    "print(f'std: {medal_count_df_2012_std[\"gdp\"].std()}')\n",
    "print(f'std_err: {std_err}')"
   ]
  },
  {
   "cell_type": "code",
   "execution_count": 182,
   "metadata": {},
   "outputs": [
    {
     "data": {
      "image/png": "[encoded data removed]",
      "text/plain": [
       "<Figure size 504x360 with 1 Axes>"
      ]
     },
     "metadata": {
      "needs_background": "light"
     },
     "output_type": "display_data"
    }
   ],
   "source": [
    "#plot linregress against scatter plot\n",
    "x2=x*slope+intercept\n",
    "an1=f'p value: {p_value}'\n",
    "an2=f'r-squared: {r_value*r_value}'\n",
    "\n",
    "plt.figure(figsize=(7,5))\n",
    "plt.scatter(x,y)\n",
    "plt.title('2012 GDP and Medal Count Correlation',fontsize=16,color='blue')\n",
    "plt.xlabel('Medal Count',fontsize=14)\n",
    "plt.ylabel('GDP',fontsize=14)\n",
    "plt.plot(x,x2,'r')\n",
    "plt.annotate(an1,(25,300000000000),fontsize=13,color=\"red\")\n",
    "plt.annotate(an2,(25,10000000000),fontsize=13,color=\"red\")\n",
    "plt.show()"
   ]
  },
  {
   "cell_type": "code",
   "execution_count": 184,
   "metadata": {},
   "outputs": [
    {
     "data": {
      "image/png": "[encoded data removed]",
      "text/plain": [
       "<Figure size 504x360 with 1 Axes>"
      ]
     },
     "metadata": {
      "needs_background": "light"
     },
     "output_type": "display_data"
    }
   ],
   "source": [
    "#check risidual normalcy\n",
    "risiduals=y-x2\n",
    "plt.figure(figsize=(7,5))\n",
    "plt.title('Risidual Normalcy - 2012 GDP and Medal Count Correlation',fontsize=16,color='blue')\n",
    "plt.xlabel('Risiduals of Model Fit',fontsize=14)\n",
    "plt.hist(risiduals,bins=30)\n",
    "plt.show()"
   ]
  },
  {
   "cell_type": "code",
   "execution_count": null,
   "metadata": {},
   "outputs": [],
   "source": []
  }
 ],
 "metadata": {
  "kernelspec": {
   "display_name": "Python [conda env:PythonData] *",
   "language": "python",
   "name": "conda-env-PythonData-py"
  },
  "language_info": {
   "codemirror_mode": {
    "name": "ipython",
    "version": 3
   },
   "file_extension": ".py",
   "mimetype": "text/x-python",
   "name": "python",
   "nbconvert_exporter": "python",
   "pygments_lexer": "ipython3",
   "version": "3.6.10"
  }
 },
 "nbformat": 4,
 "nbformat_minor": 4
}
